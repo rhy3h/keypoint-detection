{
 "cells": [
  {
   "cell_type": "code",
   "execution_count": null,
   "metadata": {},
   "outputs": [],
   "source": [
    "from torch.utils.data import DataLoader\n",
    "\n",
    "from utils import collate_fn\n",
    "\n",
    "from class_dataset import ClassDataset\n",
    "from model import get_model\n",
    "from train import start_train"
   ]
  },
  {
   "cell_type": "code",
   "execution_count": null,
   "metadata": {},
   "outputs": [],
   "source": [
    "KEYPOINTS_FOLDER_TRAIN = 'train'\n",
    "KEYPOINTS_FOLDER_TEST = 'test'\n",
    "\n",
    "dataset_train = ClassDataset(KEYPOINTS_FOLDER_TRAIN)\n",
    "dataset_test = ClassDataset(KEYPOINTS_FOLDER_TEST)\n",
    "\n",
    "data_loader_train = DataLoader(dataset_train, batch_size=3, shuffle=True, collate_fn=collate_fn)\n",
    "data_loader_test = DataLoader(dataset_test, batch_size=1, shuffle=False, collate_fn=collate_fn)"
   ]
  },
  {
   "cell_type": "code",
   "execution_count": null,
   "metadata": {},
   "outputs": [],
   "source": [
    "NUM_KEYPOINTS = 0\n",
    "WEIGHT_FOLDER = 'Weights'\n",
    "\n",
    "model = get_model(NUM_KEYPOINTS, WEIGHT_FOLDER)\n",
    "\n",
    "start_train(model, data_loader_train, data_loader_test, WEIGHT_FOLDER)"
   ]
  }
 ],
 "metadata": {
  "kernelspec": {
   "display_name": "Python 3",
   "language": "python",
   "name": "python3"
  },
  "language_info": {
   "codemirror_mode": {
    "name": "ipython",
    "version": 3
   },
   "file_extension": ".py",
   "mimetype": "text/x-python",
   "name": "python",
   "nbconvert_exporter": "python",
   "pygments_lexer": "ipython3",
   "version": "3.11.9"
  }
 },
 "nbformat": 4,
 "nbformat_minor": 4
}
